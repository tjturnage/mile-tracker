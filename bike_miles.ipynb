{
 "cells": [
  {
   "cell_type": "code",
   "execution_count": 2,
   "metadata": {},
   "outputs": [],
   "source": [
    "from bs4 import BeautifulSoup\n",
    "from datetime import datetime\n",
    "import os\n",
    "import pandas as pd\n",
    "#import matplotlib.pyplot as plt\n",
    "import matplotlib.pylab as plt\n",
    "import seaborn as sns\n",
    "import numpy as np\n",
    "import matplotlib.dates as mdates\n",
    "import pandas as pd\n",
    "# Use seaborn style defaults and set the default figure size\n",
    "sns.set(rc={'figure.figsize':(11, 4)})\n",
    "\n",
    "\n",
    "miles = {'1-12-2020':9.6,\n",
    "'1-23-2020':4.9,\n",
    "'1-31-2020':12.3,\n",
    "'2-1-2020':5.0,\n",
    "'2-3-2020':12.7,\n",
    "'2-6-2020':12.8,\n",
    "'2-9-2020':10.3,\n",
    "'2-15-2020':5.7,\n",
    "'2-16-2020':5.7,\n",
    "'2-22-2020':10.0,\n",
    "'3-15-2020':6.3,\n",
    "'3-16-2020':9.7,\n",
    "'3-17-2020':8.3,\n",
    "'3-19-2020':12.6,\n",
    "'3-21-2020':12.2,\n",
    "'3-25-2020':11.6,\n",
    "'4-2-2020':7.0,\n",
    "'4-3-2020':5.3,\n",
    " }"
   ]
  },
  {
   "cell_type": "code",
   "execution_count": 4,
   "metadata": {},
   "outputs": [
    {
     "name": "stdout",
     "output_type": "stream",
     "text": [
      "            doy  days left  miles\n",
      "date                             \n",
      "2020-01-12   12        354    9.6\n",
      "2020-01-23   23        343    4.9\n",
      "2020-01-31   31        335   12.3\n",
      "2020-02-01   32        334    5.0\n",
      "2020-02-03   34        332   12.7\n",
      "2020-02-06   37        329   12.8\n",
      "2020-02-09   40        326   10.3\n",
      "2020-02-15   46        320    5.7\n",
      "2020-02-16   47        319    5.7\n",
      "2020-02-22   53        313   10.0\n",
      "2020-03-15   75        291    6.3\n",
      "2020-03-16   76        290    9.7\n",
      "2020-03-17   77        289    8.3\n",
      "2020-03-19   79        287   12.6\n",
      "2020-03-21   81        285   12.2\n",
      "2020-03-25   85        281   11.6\n",
      "2020-04-02   93        273    7.0\n",
      "2020-04-03   94        272    5.3\n"
     ]
    }
   ],
   "source": [
    "bike_array = []\n",
    "\n",
    "df = None\n",
    "\n",
    "for key in miles:\n",
    "   \n",
    "    dt = datetime.strptime(key, '%m-%d-%Y')\n",
    "    doy = datetime.timetuple(dt)[7]     \n",
    "    days_left = 366 - doy\n",
    "    m = miles[key]\n",
    "\n",
    "\n",
    "    this = (dt,doy,days_left,m)\n",
    "    bike_array.append(this)\n",
    "\n",
    "df = pd.DataFrame(bike_array,columns=['date','doy', 'days left', 'miles'])\n",
    "df['date'] = pd.to_datetime(df['date'], format='%Y-%m-%d', errors='coerce')\n",
    "df.set_index('date',inplace=True)\n",
    "print(df)\n",
    "\n",
    "try:\n",
    "    os.listdir('/usr')\n",
    "    base_dir = '/data'\n",
    "except:\n",
    "    base_dir = 'C:/data'"
   ]
  },
  {
   "cell_type": "code",
   "execution_count": 6,
   "metadata": {},
   "outputs": [
    {
     "name": "stdout",
     "output_type": "stream",
     "text": [
      "            doy  days left  miles  cum_miles  mpd_left\n",
      "date                                                  \n",
      "2020-01-12   12        354    9.6        9.6  2.797740\n",
      "2020-01-23   23        343    4.9       14.5  2.873178\n",
      "2020-01-31   31        335   12.3       26.8  2.905075\n",
      "2020-02-01   32        334    5.0       31.8  2.898802\n",
      "2020-02-03   34        332   12.7       44.5  2.878012\n",
      "2020-02-06   37        329   12.8       57.3  2.865350\n",
      "2020-02-09   40        326   10.3       67.6  2.860123\n",
      "2020-02-15   46        320    5.7       73.3  2.895938\n",
      "2020-02-16   47        319    5.7       79.0  2.887147\n",
      "2020-02-22   53        313   10.0       89.0  2.910543\n",
      "2020-03-15   75        291    6.3       95.3  3.108935\n",
      "2020-03-16   76        290    9.7      105.0  3.086207\n",
      "2020-03-17   77        289    8.3      113.3  3.068166\n",
      "2020-03-19   79        287   12.6      125.9  3.045645\n",
      "2020-03-21   81        285   12.2      138.1  3.024211\n",
      "2020-03-25   85        281   11.6      149.7  3.025979\n",
      "2020-04-02   93        273    7.0      156.7  3.089011\n",
      "2020-04-03   94        272    5.3      162.0  3.080882\n"
     ]
    }
   ],
   "source": [
    "\n",
    "df['cum_miles'] = df['miles'].cumsum()\n",
    "df['mpd_left'] = (1000 - df['cum_miles'])/df['days left']\n",
    "print(df)"
   ]
  },
  {
   "cell_type": "code",
   "execution_count": 7,
   "metadata": {},
   "outputs": [
    {
     "data": {
      "text/plain": [
       "2.73972602739726"
      ]
     },
     "execution_count": 7,
     "metadata": {},
     "output_type": "execute_result"
    }
   ],
   "source": [
    "1000/365\n"
   ]
  },
  {
   "cell_type": "code",
   "execution_count": null,
   "metadata": {},
   "outputs": [],
   "source": []
  }
 ],
 "metadata": {
  "kernelspec": {
   "display_name": "Python 3",
   "language": "python",
   "name": "python3"
  },
  "language_info": {
   "codemirror_mode": {
    "name": "ipython",
    "version": 3
   },
   "file_extension": ".py",
   "mimetype": "text/x-python",
   "name": "python",
   "nbconvert_exporter": "python",
   "pygments_lexer": "ipython3",
   "version": "3.7.6"
  }
 },
 "nbformat": 4,
 "nbformat_minor": 4
}
